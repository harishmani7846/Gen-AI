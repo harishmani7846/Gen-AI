{
  "nbformat": 4,
  "nbformat_minor": 0,
  "metadata": {
    "colab": {
      "provenance": []
    },
    "kernelspec": {
      "name": "python3",
      "display_name": "Python 3"
    },
    "language_info": {
      "name": "python"
    }
  },
  "cells": [
    {
      "cell_type": "code",
      "execution_count": 3,
      "metadata": {
        "colab": {
          "base_uri": "https://localhost:8080/"
        },
        "id": "JJMVb-di-5-E",
        "outputId": "d8ccc545-ebd6-4df1-86e3-6ba66769d4e2"
      },
      "outputs": [
        {
          "output_type": "stream",
          "name": "stdout",
          "text": [
            "Summary: Dr. A.P.J. Abdul Kalam was a renowned aerospace scientist and the 11th President of India. He played a pivotal role in India's Pokhran-II nuclear tests in 1998, which established India as a nuclear power.\n"
          ]
        }
      ],
      "source": [
        "\n",
        "from transformers import BartTokenizer, BartForConditionalGeneration\n",
        "\n",
        "# Load tokenizer and model\n",
        "tokenizer = BartTokenizer.from_pretrained('facebook/bart-large-cnn')\n",
        "model = BartForConditionalGeneration.from_pretrained('facebook/bart-large-cnn')\n",
        "\n",
        "# Input text\n",
        "text = \"\"\"\n",
        "Dr. A.P.J. Abdul Kalam, popularly known as the 'Missile Man of India', was a renowned aerospace scientist and the 11th President of India.\n",
        "He played a pivotal role in India's Pokhran-II nuclear tests in 1998, which established India as a nuclear power.\n",
        "Born in a modest family in Rameswaram, Tamil Nadu, Dr. Kalam rose through hard work, education, and integrity.\n",
        "He was instrumental in the development of India’s missile and satellite programs during his tenure at DRDO and ISRO.\n",
        "A beloved teacher and motivator, Dr. Kalam authored several inspirational books including 'Wings of Fire' and 'Ignited Minds'.\n",
        "He dedicated his life to youth empowerment and nation-building, continuing to teach and inspire students until his last breath.\n",
        "His humility, vision, and patriotism earned him immense respect across the world.\n",
        "\"\"\"\n",
        "\n",
        "# Tokenize and summarize\n",
        "inputs = tokenizer([text], max_length=1024, return_tensors='pt', truncation=True)\n",
        "summary_ids = model.generate(\n",
        "    inputs['input_ids'],\n",
        "    max_length=100,\n",
        "    min_length=30,\n",
        "    length_penalty=2.0,\n",
        "    num_beams=4,\n",
        "    early_stopping=True\n",
        ")\n",
        "\n",
        "# Decode and print summary\n",
        "summary = tokenizer.decode(summary_ids[0], skip_special_tokens=True)\n",
        "print(\"Summary:\", summary)\n",
        "\n",
        "\n"
      ]
    },
    {
      "cell_type": "code",
      "source": [
        "from transformers import T5Tokenizer, T5ForConditionalGeneration\n",
        "\n",
        "# Load tokenizer and model\n",
        "tokenizer = T5Tokenizer.from_pretrained(\"google/flan-t5-base\")\n",
        "model = T5ForConditionalGeneration.from_pretrained(\"google/flan-t5-base\")\n",
        "\n",
        "# Prompt-based input (summarization)\n",
        "prompt = \"\"\"Summarize: Dr. A.P.J. Abdul Kalam, popularly known as the 'Missile Man of India', was a renowned aerospace scientist and the 11th President of India.\n",
        "He played a pivotal role in India's Pokhran-II nuclear tests in 1998, which established India as a nuclear power.\n",
        "Born in a modest family in Rameswaram, Tamil Nadu, Dr. Kalam rose through hard work, education, and integrity.\n",
        "He was instrumental in the development of India’s missile and satellite programs during his tenure at DRDO and ISRO.\n",
        "A beloved teacher and motivator, Dr. Kalam authored several inspirational books including 'Wings of Fire' and 'Ignited Minds'.\n",
        "He dedicated his life to youth empowerment and nation-building, continuing to teach and inspire students until his last breath.\n",
        "His humility, vision, and patriotism earned him immense respect across the world.\"\"\"\n",
        "\n",
        "# Tokenize input\n",
        "inputs = tokenizer(prompt, return_tensors=\"pt\")\n",
        "\n",
        "# Generate summary\n",
        "outputs = model.generate(**inputs, max_length=100, num_beams=4, early_stopping=True)\n",
        "\n",
        "# Decode and print result\n",
        "summary = tokenizer.decode(outputs[0], skip_special_tokens=True)\n",
        "print(\"Generated Summary:\", summary)\n"
      ],
      "metadata": {
        "colab": {
          "base_uri": "https://localhost:8080/"
        },
        "collapsed": true,
        "id": "4CO-DDKu_DgT",
        "outputId": "a6116beb-0534-4bff-faa7-dc7482dffe99"
      },
      "execution_count": 4,
      "outputs": [
        {
          "output_type": "stream",
          "name": "stderr",
          "text": [
            "You are using the default legacy behaviour of the <class 'transformers.models.t5.tokenization_t5.T5Tokenizer'>. This is expected, and simply means that the `legacy` (previous) behavior will be used so nothing changes for you. If you want to use the new behaviour, set `legacy=False`. This should only be set if you understand what it means, and thoroughly read the reason why this was added as explained in https://github.com/huggingface/transformers/pull/24565\n"
          ]
        },
        {
          "output_type": "stream",
          "name": "stdout",
          "text": [
            "Generated Summary: Dr. A.P.J. Abdul Kalam was born in Rameswaram, Tamil Nadu.\n"
          ]
        }
      ]
    }
  ]
}